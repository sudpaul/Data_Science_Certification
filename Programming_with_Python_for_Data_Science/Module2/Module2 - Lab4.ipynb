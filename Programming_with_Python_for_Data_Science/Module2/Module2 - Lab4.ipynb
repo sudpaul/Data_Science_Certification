{
 "cells": [
  {
   "cell_type": "markdown",
   "metadata": {},
   "source": [
    "# DAT210x - Programming with Python for DS"
   ]
  },
  {
   "cell_type": "markdown",
   "metadata": {},
   "source": [
    "## Module2 - Lab4"
   ]
  },
  {
   "cell_type": "markdown",
   "metadata": {
    "collapsed": true
   },
   "source": [
    "Import and alias Pandas:"
   ]
  },
  {
   "cell_type": "code",
   "execution_count": 1,
   "metadata": {
    "collapsed": true
   },
   "outputs": [],
   "source": [
    "# .. your code here ..\n",
    "import pandas as pd"
   ]
  },
  {
   "cell_type": "markdown",
   "metadata": {},
   "source": [
    "Load up the table from the link, and extract the dataset out of it. If you're having issues with this, look carefully at the sample code provided in the reading:"
   ]
  },
  {
   "cell_type": "code",
   "execution_count": 3,
   "metadata": {
    "collapsed": true
   },
   "outputs": [],
   "source": [
    "# .. your code here ..\n",
    "df = pd.read_html('http://espn.go.com/nhl/statistics/player/_/stat/points/sort/points/year/2015/seasontype/2', header = 1)[0]"
   ]
  },
  {
   "cell_type": "code",
   "execution_count": 4,
   "metadata": {},
   "outputs": [
    {
     "data": {
      "text/html": [
       "<div>\n",
       "<table border=\"1\" class=\"dataframe\">\n",
       "  <thead>\n",
       "    <tr style=\"text-align: right;\">\n",
       "      <th></th>\n",
       "      <th>RK</th>\n",
       "      <th>PLAYER</th>\n",
       "      <th>TEAM</th>\n",
       "      <th>GP</th>\n",
       "      <th>G</th>\n",
       "      <th>A</th>\n",
       "      <th>PTS</th>\n",
       "      <th>+/-</th>\n",
       "      <th>PIM</th>\n",
       "      <th>PTS/G</th>\n",
       "      <th>SOG</th>\n",
       "      <th>PCT</th>\n",
       "      <th>GWG</th>\n",
       "      <th>G.1</th>\n",
       "      <th>A.1</th>\n",
       "      <th>G.2</th>\n",
       "      <th>A.2</th>\n",
       "    </tr>\n",
       "  </thead>\n",
       "  <tbody>\n",
       "    <tr>\n",
       "      <th>0</th>\n",
       "      <td>1</td>\n",
       "      <td>Jamie Benn, LW</td>\n",
       "      <td>DAL</td>\n",
       "      <td>82</td>\n",
       "      <td>35</td>\n",
       "      <td>52</td>\n",
       "      <td>87</td>\n",
       "      <td>1</td>\n",
       "      <td>64</td>\n",
       "      <td>1.06</td>\n",
       "      <td>253</td>\n",
       "      <td>13.8</td>\n",
       "      <td>6</td>\n",
       "      <td>10</td>\n",
       "      <td>13</td>\n",
       "      <td>2</td>\n",
       "      <td>3</td>\n",
       "    </tr>\n",
       "    <tr>\n",
       "      <th>1</th>\n",
       "      <td>2</td>\n",
       "      <td>John Tavares, C</td>\n",
       "      <td>NYI</td>\n",
       "      <td>82</td>\n",
       "      <td>38</td>\n",
       "      <td>48</td>\n",
       "      <td>86</td>\n",
       "      <td>5</td>\n",
       "      <td>46</td>\n",
       "      <td>1.05</td>\n",
       "      <td>278</td>\n",
       "      <td>13.7</td>\n",
       "      <td>8</td>\n",
       "      <td>13</td>\n",
       "      <td>18</td>\n",
       "      <td>0</td>\n",
       "      <td>1</td>\n",
       "    </tr>\n",
       "    <tr>\n",
       "      <th>2</th>\n",
       "      <td>3</td>\n",
       "      <td>Sidney Crosby, C</td>\n",
       "      <td>PIT</td>\n",
       "      <td>77</td>\n",
       "      <td>28</td>\n",
       "      <td>56</td>\n",
       "      <td>84</td>\n",
       "      <td>5</td>\n",
       "      <td>47</td>\n",
       "      <td>1.09</td>\n",
       "      <td>237</td>\n",
       "      <td>11.8</td>\n",
       "      <td>3</td>\n",
       "      <td>10</td>\n",
       "      <td>21</td>\n",
       "      <td>0</td>\n",
       "      <td>0</td>\n",
       "    </tr>\n",
       "    <tr>\n",
       "      <th>3</th>\n",
       "      <td>4</td>\n",
       "      <td>Alex Ovechkin, LW</td>\n",
       "      <td>WSH</td>\n",
       "      <td>81</td>\n",
       "      <td>53</td>\n",
       "      <td>28</td>\n",
       "      <td>81</td>\n",
       "      <td>10</td>\n",
       "      <td>58</td>\n",
       "      <td>1.00</td>\n",
       "      <td>395</td>\n",
       "      <td>13.4</td>\n",
       "      <td>11</td>\n",
       "      <td>25</td>\n",
       "      <td>9</td>\n",
       "      <td>0</td>\n",
       "      <td>0</td>\n",
       "    </tr>\n",
       "    <tr>\n",
       "      <th>4</th>\n",
       "      <td>NaN</td>\n",
       "      <td>Jakub Voracek, RW</td>\n",
       "      <td>PHI</td>\n",
       "      <td>82</td>\n",
       "      <td>22</td>\n",
       "      <td>59</td>\n",
       "      <td>81</td>\n",
       "      <td>1</td>\n",
       "      <td>78</td>\n",
       "      <td>0.99</td>\n",
       "      <td>221</td>\n",
       "      <td>10.0</td>\n",
       "      <td>3</td>\n",
       "      <td>11</td>\n",
       "      <td>22</td>\n",
       "      <td>0</td>\n",
       "      <td>0</td>\n",
       "    </tr>\n",
       "  </tbody>\n",
       "</table>\n",
       "</div>"
      ],
      "text/plain": [
       "    RK             PLAYER TEAM  GP   G   A PTS +/- PIM PTS/G  SOG   PCT GWG  \\\n",
       "0    1     Jamie Benn, LW  DAL  82  35  52  87   1  64  1.06  253  13.8   6   \n",
       "1    2    John Tavares, C  NYI  82  38  48  86   5  46  1.05  278  13.7   8   \n",
       "2    3   Sidney Crosby, C  PIT  77  28  56  84   5  47  1.09  237  11.8   3   \n",
       "3    4  Alex Ovechkin, LW  WSH  81  53  28  81  10  58  1.00  395  13.4  11   \n",
       "4  NaN  Jakub Voracek, RW  PHI  82  22  59  81   1  78  0.99  221  10.0   3   \n",
       "\n",
       "  G.1 A.1 G.2 A.2  \n",
       "0  10  13   2   3  \n",
       "1  13  18   0   1  \n",
       "2  10  21   0   0  \n",
       "3  25   9   0   0  \n",
       "4  11  22   0   0  "
      ]
     },
     "execution_count": 4,
     "metadata": {},
     "output_type": "execute_result"
    }
   ],
   "source": [
    "df.head()"
   ]
  },
  {
   "cell_type": "code",
   "execution_count": 5,
   "metadata": {},
   "outputs": [
    {
     "data": {
      "text/plain": [
       "Index(['RK', 'PLAYER', 'TEAM', 'GP', 'G', 'A', 'PTS', '+/-', 'PIM', 'PTS/G',\n",
       "       'SOG', 'PCT', 'GWG', 'G.1', 'A.1', 'G.2', 'A.2'],\n",
       "      dtype='object')"
      ]
     },
     "execution_count": 5,
     "metadata": {},
     "output_type": "execute_result"
    }
   ],
   "source": [
    "df.columns"
   ]
  },
  {
   "cell_type": "markdown",
   "metadata": {},
   "source": [
    "Next up, rename the columns so that they are _similar_ to the column definitions provided to you on the website. Be careful and don't accidentally use any column names twice. If a column uses special characters, you can replace them with regular characters to make it easier to work with:"
   ]
  },
  {
   "cell_type": "code",
   "execution_count": 6,
   "metadata": {
    "collapsed": true
   },
   "outputs": [],
   "source": [
    "# .. your code here .\n",
    "df.columns = ['RK','PLAYER','TEAM', 'GP', 'G', 'A','PTS' ,'+/-','PIM','PTS/G','SOG','PCT' ,'GWG', 'PPG', 'PPA', 'SHG', 'SHA']"
   ]
  },
  {
   "cell_type": "code",
   "execution_count": 7,
   "metadata": {},
   "outputs": [
    {
     "data": {
      "text/html": [
       "<div>\n",
       "<table border=\"1\" class=\"dataframe\">\n",
       "  <thead>\n",
       "    <tr style=\"text-align: right;\">\n",
       "      <th></th>\n",
       "      <th>RK</th>\n",
       "      <th>PLAYER</th>\n",
       "      <th>TEAM</th>\n",
       "      <th>GP</th>\n",
       "      <th>G</th>\n",
       "      <th>A</th>\n",
       "      <th>PTS</th>\n",
       "      <th>+/-</th>\n",
       "      <th>PIM</th>\n",
       "      <th>PTS/G</th>\n",
       "      <th>SOG</th>\n",
       "      <th>PCT</th>\n",
       "      <th>GWG</th>\n",
       "      <th>PPG</th>\n",
       "      <th>PPA</th>\n",
       "      <th>SHG</th>\n",
       "      <th>SHA</th>\n",
       "    </tr>\n",
       "  </thead>\n",
       "  <tbody>\n",
       "    <tr>\n",
       "      <th>0</th>\n",
       "      <td>1</td>\n",
       "      <td>Jamie Benn, LW</td>\n",
       "      <td>DAL</td>\n",
       "      <td>82</td>\n",
       "      <td>35</td>\n",
       "      <td>52</td>\n",
       "      <td>87</td>\n",
       "      <td>1</td>\n",
       "      <td>64</td>\n",
       "      <td>1.06</td>\n",
       "      <td>253</td>\n",
       "      <td>13.8</td>\n",
       "      <td>6</td>\n",
       "      <td>10</td>\n",
       "      <td>13</td>\n",
       "      <td>2</td>\n",
       "      <td>3</td>\n",
       "    </tr>\n",
       "    <tr>\n",
       "      <th>1</th>\n",
       "      <td>2</td>\n",
       "      <td>John Tavares, C</td>\n",
       "      <td>NYI</td>\n",
       "      <td>82</td>\n",
       "      <td>38</td>\n",
       "      <td>48</td>\n",
       "      <td>86</td>\n",
       "      <td>5</td>\n",
       "      <td>46</td>\n",
       "      <td>1.05</td>\n",
       "      <td>278</td>\n",
       "      <td>13.7</td>\n",
       "      <td>8</td>\n",
       "      <td>13</td>\n",
       "      <td>18</td>\n",
       "      <td>0</td>\n",
       "      <td>1</td>\n",
       "    </tr>\n",
       "  </tbody>\n",
       "</table>\n",
       "</div>"
      ],
      "text/plain": [
       "  RK           PLAYER TEAM  GP   G   A PTS +/- PIM PTS/G  SOG   PCT GWG PPG  \\\n",
       "0  1   Jamie Benn, LW  DAL  82  35  52  87   1  64  1.06  253  13.8   6  10   \n",
       "1  2  John Tavares, C  NYI  82  38  48  86   5  46  1.05  278  13.7   8  13   \n",
       "\n",
       "  PPA SHG SHA  \n",
       "0  13   2   3  \n",
       "1  18   0   1  "
      ]
     },
     "execution_count": 7,
     "metadata": {},
     "output_type": "execute_result"
    }
   ],
   "source": [
    "df.head(2)"
   ]
  },
  {
   "cell_type": "markdown",
   "metadata": {},
   "source": [
    "Get rid of any row that has at least 4 NANs in it. That is, any rows that do not contain player points statistics:"
   ]
  },
  {
   "cell_type": "code",
   "execution_count": 8,
   "metadata": {
    "collapsed": true
   },
   "outputs": [],
   "source": [
    "# .. your code here ..\n",
    "df = df.dropna(axis=0, thresh=4)"
   ]
  },
  {
   "cell_type": "code",
   "execution_count": 10,
   "metadata": {},
   "outputs": [
    {
     "data": {
      "text/plain": [
       "RK        22\n",
       "PLAYER     0\n",
       "TEAM       0\n",
       "GP         0\n",
       "G          0\n",
       "A          0\n",
       "PTS        0\n",
       "+/-        0\n",
       "PIM        0\n",
       "PTS/G      0\n",
       "SOG        0\n",
       "PCT        0\n",
       "GWG        0\n",
       "PPG        0\n",
       "PPA        0\n",
       "SHG        0\n",
       "SHA        0\n",
       "dtype: int64"
      ]
     },
     "execution_count": 10,
     "metadata": {},
     "output_type": "execute_result"
    }
   ],
   "source": [
    "df.isnull().sum()"
   ]
  },
  {
   "cell_type": "markdown",
   "metadata": {},
   "source": [
    "At this point, look through your dataset by printing it. There probably still are some erroneous rows in there. What indexing command(s) will you use to select all rows EXCEPT those rows?"
   ]
  },
  {
   "cell_type": "code",
   "execution_count": 11,
   "metadata": {
    "collapsed": true
   },
   "outputs": [],
   "source": [
    "# .. your code here ..\n",
    "df = df.drop(df[df.PLAYER =='PLAYER'].index, axis = 0)"
   ]
  },
  {
   "cell_type": "code",
   "execution_count": 12,
   "metadata": {},
   "outputs": [
    {
     "data": {
      "text/plain": [
       "(40, 17)"
      ]
     },
     "execution_count": 12,
     "metadata": {},
     "output_type": "execute_result"
    }
   ],
   "source": [
    "df.shape"
   ]
  },
  {
   "cell_type": "markdown",
   "metadata": {},
   "source": [
    "Get rid of the 'RK' column:"
   ]
  },
  {
   "cell_type": "code",
   "execution_count": 13,
   "metadata": {
    "collapsed": true
   },
   "outputs": [],
   "source": [
    "# .. your code here ..\n",
    "df = df.drop( labels=['RK'], axis = 1)"
   ]
  },
  {
   "cell_type": "markdown",
   "metadata": {},
   "source": [
    "Make sure there are no holes in your index by resetting it. There is an example of this in the reading material. By the way, drop the original index."
   ]
  },
  {
   "cell_type": "code",
   "execution_count": 14,
   "metadata": {
    "collapsed": true
   },
   "outputs": [],
   "source": [
    "# .. your code here ..\n",
    "df = df.reset_index(drop=True)"
   ]
  },
  {
   "cell_type": "markdown",
   "metadata": {},
   "source": [
    "Check the data type of all columns, and ensure those that should be numeric are numeric."
   ]
  },
  {
   "cell_type": "code",
   "execution_count": 15,
   "metadata": {},
   "outputs": [
    {
     "data": {
      "text/plain": [
       "PLAYER    object\n",
       "TEAM      object\n",
       "GP        object\n",
       "G         object\n",
       "A         object\n",
       "PTS       object\n",
       "+/-       object\n",
       "PIM       object\n",
       "PTS/G     object\n",
       "SOG       object\n",
       "PCT       object\n",
       "GWG       object\n",
       "PPG       object\n",
       "PPA       object\n",
       "SHG       object\n",
       "SHA       object\n",
       "dtype: object"
      ]
     },
     "execution_count": 15,
     "metadata": {},
     "output_type": "execute_result"
    }
   ],
   "source": [
    "# .. your code here ..\n",
    "df.dtypes"
   ]
  },
  {
   "cell_type": "code",
   "execution_count": 16,
   "metadata": {},
   "outputs": [
    {
     "data": {
      "text/plain": [
       "PLAYER     object\n",
       "TEAM       object\n",
       "GP          int64\n",
       "G           int64\n",
       "A           int64\n",
       "PTS         int64\n",
       "+/-         int64\n",
       "PIM         int64\n",
       "PTS/G     float64\n",
       "SOG         int64\n",
       "PCT       float64\n",
       "GWG         int64\n",
       "PPG         int64\n",
       "PPA         int64\n",
       "SHG         int64\n",
       "SHA         int64\n",
       "dtype: object"
      ]
     },
     "execution_count": 16,
     "metadata": {},
     "output_type": "execute_result"
    }
   ],
   "source": [
    "numeric_col = list(df.columns[2:])\n",
    "df[numeric_col] = df[numeric_col].apply(pd.to_numeric, args = ('coerce', ))\n",
    "df.dtypes"
   ]
  },
  {
   "cell_type": "markdown",
   "metadata": {},
   "source": [
    "Your dataframe is now ready! Use the appropriate commands to answer the questions on the course lab page."
   ]
  },
  {
   "cell_type": "code",
   "execution_count": 17,
   "metadata": {},
   "outputs": [
    {
     "data": {
      "text/plain": [
       "(40, 16)"
      ]
     },
     "execution_count": 17,
     "metadata": {},
     "output_type": "execute_result"
    }
   ],
   "source": [
    "# .. your code here ..\n",
    "df.shape"
   ]
  },
  {
   "cell_type": "code",
   "execution_count": 18,
   "metadata": {},
   "outputs": [
    {
     "data": {
      "text/plain": [
       "36"
      ]
     },
     "execution_count": 18,
     "metadata": {},
     "output_type": "execute_result"
    }
   ],
   "source": [
    "df['PCT'].nunique()"
   ]
  },
  {
   "cell_type": "code",
   "execution_count": 19,
   "metadata": {},
   "outputs": [
    {
     "data": {
      "text/plain": [
       "164"
      ]
     },
     "execution_count": 19,
     "metadata": {},
     "output_type": "execute_result"
    }
   ],
   "source": [
    "df.loc[15:16, 'GP'].sum()"
   ]
  },
  {
   "cell_type": "code",
   "execution_count": null,
   "metadata": {
    "collapsed": true
   },
   "outputs": [],
   "source": []
  }
 ],
 "metadata": {
  "anaconda-cloud": {},
  "kernelspec": {
   "display_name": "Python 3",
   "language": "python",
   "name": "python3"
  },
  "language_info": {
   "codemirror_mode": {
    "name": "ipython",
    "version": 3
   },
   "file_extension": ".py",
   "mimetype": "text/x-python",
   "name": "python",
   "nbconvert_exporter": "python",
   "pygments_lexer": "ipython3",
   "version": "3.5.4"
  },
  "toc": {
   "colors": {
    "hover_highlight": "#DAA520",
    "running_highlight": "#FF0000",
    "selected_highlight": "#FFD700"
   },
   "moveMenuLeft": true,
   "nav_menu": {
    "height": "58px",
    "width": "251px"
   },
   "navigate_menu": true,
   "number_sections": true,
   "sideBar": true,
   "threshold": 4,
   "toc_cell": false,
   "toc_section_display": "block",
   "toc_window_display": false,
   "widenNotebook": false
  }
 },
 "nbformat": 4,
 "nbformat_minor": 2
}
