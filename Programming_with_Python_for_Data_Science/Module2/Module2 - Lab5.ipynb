{
 "cells": [
  {
   "cell_type": "markdown",
   "metadata": {},
   "source": [
    "# DAT210x - Programming with Python for DS"
   ]
  },
  {
   "cell_type": "markdown",
   "metadata": {},
   "source": [
    "## Module2 - Lab5"
   ]
  },
  {
   "cell_type": "markdown",
   "metadata": {
    "collapsed": true
   },
   "source": [
    "Import and alias Pandas:"
   ]
  },
  {
   "cell_type": "code",
   "execution_count": 1,
   "metadata": {
    "collapsed": true
   },
   "outputs": [],
   "source": [
    "# .. your code here ..\n",
    "import pandas as pd"
   ]
  },
  {
   "cell_type": "markdown",
   "metadata": {},
   "source": [
    "As per usual, load up the specified dataset, setting appropriate header labels."
   ]
  },
  {
   "cell_type": "code",
   "execution_count": 2,
   "metadata": {
    "collapsed": true
   },
   "outputs": [],
   "source": [
    "# .. your code here ..\n",
    "col_names = ['education', 'age', 'capital_gain', 'race', 'capital_loss', 'hours-per-week', 'sex', 'classification']\n",
    "census = pd.read_csv(\"./Datasets/census.data\", header=None, index_col= 0, na_values=['NA', '?'], names= col_names)"
   ]
  },
  {
   "cell_type": "code",
   "execution_count": 3,
   "metadata": {},
   "outputs": [
    {
     "data": {
      "text/html": [
       "<div>\n",
       "<table border=\"1\" class=\"dataframe\">\n",
       "  <thead>\n",
       "    <tr style=\"text-align: right;\">\n",
       "      <th></th>\n",
       "      <th>education</th>\n",
       "      <th>age</th>\n",
       "      <th>capital_gain</th>\n",
       "      <th>race</th>\n",
       "      <th>capital_loss</th>\n",
       "      <th>hours-per-week</th>\n",
       "      <th>sex</th>\n",
       "      <th>classification</th>\n",
       "    </tr>\n",
       "  </thead>\n",
       "  <tbody>\n",
       "    <tr>\n",
       "      <th>0</th>\n",
       "      <td>Bachelors</td>\n",
       "      <td>39</td>\n",
       "      <td>2174.0</td>\n",
       "      <td>White</td>\n",
       "      <td>0</td>\n",
       "      <td>40</td>\n",
       "      <td>Male</td>\n",
       "      <td>&lt;=50K</td>\n",
       "    </tr>\n",
       "    <tr>\n",
       "      <th>1</th>\n",
       "      <td>Bachelors</td>\n",
       "      <td>50</td>\n",
       "      <td>NaN</td>\n",
       "      <td>White</td>\n",
       "      <td>0</td>\n",
       "      <td>13</td>\n",
       "      <td>Male</td>\n",
       "      <td>&lt;=50K</td>\n",
       "    </tr>\n",
       "    <tr>\n",
       "      <th>2</th>\n",
       "      <td>HS-grad</td>\n",
       "      <td>38</td>\n",
       "      <td>NaN</td>\n",
       "      <td>White</td>\n",
       "      <td>0</td>\n",
       "      <td>40</td>\n",
       "      <td>Male</td>\n",
       "      <td>&lt;=50K</td>\n",
       "    </tr>\n",
       "    <tr>\n",
       "      <th>3</th>\n",
       "      <td>11th</td>\n",
       "      <td>53</td>\n",
       "      <td>NaN</td>\n",
       "      <td>Black</td>\n",
       "      <td>0</td>\n",
       "      <td>40</td>\n",
       "      <td>Male</td>\n",
       "      <td>&lt;=50K</td>\n",
       "    </tr>\n",
       "    <tr>\n",
       "      <th>4</th>\n",
       "      <td>Bachelors</td>\n",
       "      <td>28</td>\n",
       "      <td>0.0</td>\n",
       "      <td>Black</td>\n",
       "      <td>0</td>\n",
       "      <td>40</td>\n",
       "      <td>Female</td>\n",
       "      <td>&lt;=50K</td>\n",
       "    </tr>\n",
       "  </tbody>\n",
       "</table>\n",
       "</div>"
      ],
      "text/plain": [
       "   education  age  capital_gain   race  capital_loss  hours-per-week     sex  \\\n",
       "0  Bachelors   39        2174.0  White             0              40    Male   \n",
       "1  Bachelors   50           NaN  White             0              13    Male   \n",
       "2    HS-grad   38           NaN  White             0              40    Male   \n",
       "3       11th   53           NaN  Black             0              40    Male   \n",
       "4  Bachelors   28           0.0  Black             0              40  Female   \n",
       "\n",
       "  classification  \n",
       "0          <=50K  \n",
       "1          <=50K  \n",
       "2          <=50K  \n",
       "3          <=50K  \n",
       "4          <=50K  "
      ]
     },
     "execution_count": 3,
     "metadata": {},
     "output_type": "execute_result"
    }
   ],
   "source": [
    "census.head()"
   ]
  },
  {
   "cell_type": "code",
   "execution_count": 4,
   "metadata": {},
   "outputs": [
    {
     "data": {
      "text/plain": [
       "education          object\n",
       "age                 int64\n",
       "capital_gain      float64\n",
       "race               object\n",
       "capital_loss        int64\n",
       "hours-per-week      int64\n",
       "sex                object\n",
       "classification     object\n",
       "dtype: object"
      ]
     },
     "execution_count": 4,
     "metadata": {},
     "output_type": "execute_result"
    }
   ],
   "source": [
    "census.dtypes"
   ]
  },
  {
   "cell_type": "markdown",
   "metadata": {},
   "source": [
    "Excellent.\n",
    "\n",
    "Now, use basic pandas commands to look through the dataset. Get a feel for it before proceeding!\n",
    "\n",
    "Do the data-types of each column reflect the values you see when you look through the data using a text editor / spread sheet program? If you see `object` where you expect to see `int32` or `float64`, that is a good indicator that there might be a string or missing value or erroneous value in the column."
   ]
  },
  {
   "cell_type": "code",
   "execution_count": 5,
   "metadata": {},
   "outputs": [
    {
     "data": {
      "text/plain": [
       "4"
      ]
     },
     "execution_count": 5,
     "metadata": {},
     "output_type": "execute_result"
    }
   ],
   "source": [
    "# .. your code here ..\n",
    "census.isnull().values.sum()"
   ]
  },
  {
   "cell_type": "code",
   "execution_count": 7,
   "metadata": {},
   "outputs": [],
   "source": [
    "census = census.fillna(0)"
   ]
  },
  {
   "cell_type": "markdown",
   "metadata": {},
   "source": [
    "Try use `your_data_frame['your_column'].unique()` or equally, `your_data_frame.your_column.unique()` to see the unique values of each column and identify the rogue values.\n",
    "\n",
    "If you find any value that should be properly encoded to NaNs, you can convert them either using the `na_values` parameter when loading the dataframe. Or alternatively, use one of the other methods discussed in the reading."
   ]
  },
  {
   "cell_type": "code",
   "execution_count": 8,
   "metadata": {},
   "outputs": [
    {
     "data": {
      "text/plain": [
       "array(['Bachelors', 'HS-grad', '11th', 'Masters', '9th', 'Some-college',\n",
       "       '7th-8th', 'Doctorate', '5th-6th', '10th', '1st-4th', 'Preschool',\n",
       "       '12th'], dtype=object)"
      ]
     },
     "execution_count": 8,
     "metadata": {},
     "output_type": "execute_result"
    }
   ],
   "source": [
    "# .. your code here ..\n",
    "census.education.unique()"
   ]
  },
  {
   "cell_type": "code",
   "execution_count": 9,
   "metadata": {},
   "outputs": [
    {
     "data": {
      "text/plain": [
       "array(['Male', 'Female'], dtype=object)"
      ]
     },
     "execution_count": 9,
     "metadata": {},
     "output_type": "execute_result"
    }
   ],
   "source": [
    "census.sex.unique()"
   ]
  },
  {
   "cell_type": "code",
   "execution_count": 10,
   "metadata": {},
   "outputs": [
    {
     "data": {
      "text/plain": [
       "array(['<=50K', '>50K'], dtype=object)"
      ]
     },
     "execution_count": 10,
     "metadata": {},
     "output_type": "execute_result"
    }
   ],
   "source": [
    "census.classification.unique()"
   ]
  },
  {
   "cell_type": "code",
   "execution_count": 11,
   "metadata": {},
   "outputs": [
    {
     "data": {
      "text/plain": [
       "<bound method IndexOpsMixin.nunique of 0                     White\n",
       "1                     White\n",
       "2                     White\n",
       "3                     Black\n",
       "4                     Black\n",
       "5                     White\n",
       "6                     Black\n",
       "7                     White\n",
       "8                     White\n",
       "9                     White\n",
       "10                    Black\n",
       "11       Asian-Pac-Islander\n",
       "12                    White\n",
       "13       Amer-Indian-Eskimo\n",
       "14                    White\n",
       "15                    White\n",
       "16                    White\n",
       "17                    White\n",
       "18                    White\n",
       "19                    Black\n",
       "20                    Black\n",
       "21                    White\n",
       "22                    White\n",
       "23                    White\n",
       "24                    White\n",
       "25       Asian-Pac-Islander\n",
       "26                    White\n",
       "27                    White\n",
       "28                    Black\n",
       "29                    White\n",
       "                ...        \n",
       "29506                 White\n",
       "29507                 White\n",
       "29508                 White\n",
       "29509                 White\n",
       "29510                 White\n",
       "29511                 White\n",
       "29512    Asian-Pac-Islander\n",
       "29513                 White\n",
       "29514    Asian-Pac-Islander\n",
       "29515                 White\n",
       "29516                 Black\n",
       "29517                 White\n",
       "29518                 Black\n",
       "29519                 Black\n",
       "29520                 White\n",
       "29521                 White\n",
       "29522                 Black\n",
       "29523                 White\n",
       "29524                 Other\n",
       "29525                 White\n",
       "29526                 White\n",
       "29527                 White\n",
       "29528    Amer-Indian-Eskimo\n",
       "29529    Asian-Pac-Islander\n",
       "29530                 White\n",
       "29531                 White\n",
       "29532                 White\n",
       "29533                 White\n",
       "29534                 White\n",
       "29535                 White\n",
       "Name: race, dtype: object>"
      ]
     },
     "execution_count": 11,
     "metadata": {},
     "output_type": "execute_result"
    }
   ],
   "source": [
    "census.race.nunique"
   ]
  },
  {
   "cell_type": "markdown",
   "metadata": {},
   "source": [
    "Look through your data and identify any potential categorical features. Ensure you properly encode any ordinal and nominal types using the methods discussed in the chapter.\n",
    "\n",
    "Be careful! Some features can be represented as either categorical or continuous (numerical). If you ever get confused, think to yourself what makes more sense generally---to represent such features with a continuous numeric type... or a series of categories?"
   ]
  },
  {
   "cell_type": "code",
   "execution_count": 12,
   "metadata": {
    "collapsed": true
   },
   "outputs": [],
   "source": [
    "# .. your code here ..\n",
    "education_categories = ['1st-4th','5th-6th', '7th-8th','9th','10th','11th','12th','HS-grad','Some-college','Bachelors', 'Masters', 'Doctorate']\n",
    "census.education = census.education.astype('category', ordered = True, categories = education_categories).cat.codes\n",
    "\n",
    "params = ('ordered=True', 'categories=set(census.classification)')\n",
    "census.classification = census.classification.astype('category', *params).cat.codes\n",
    "\n",
    "census.sex = census.sex.astype('category').cat.codes\n",
    "\n",
    "census.race.unique()\n",
    "census = pd.get_dummies(census, columns=['race'])\n"
   ]
  },
  {
   "cell_type": "markdown",
   "metadata": {},
   "source": [
    "Lastly, print out your dataframe!"
   ]
  },
  {
   "cell_type": "code",
   "execution_count": 14,
   "metadata": {},
   "outputs": [
    {
     "name": "stdout",
     "output_type": "stream",
     "text": [
      "       education  age  capital_gain  capital_loss  hours-per-week  sex  \\\n",
      "0              9   39        2174.0             0              40    1   \n",
      "1              9   50           0.0             0              13    1   \n",
      "2              7   38           0.0             0              40    1   \n",
      "3              5   53           0.0             0              40    1   \n",
      "4              9   28           0.0             0              40    0   \n",
      "5             10   37           0.0             0              40    0   \n",
      "6              3   49           0.0             0              16    0   \n",
      "7              7   52           0.0             0              45    1   \n",
      "8             10   31       14084.0             0              50    0   \n",
      "9              9   42        5178.0             0              40    1   \n",
      "10             8   37           0.0             0              80    1   \n",
      "11             9   30           0.0             0              40    1   \n",
      "12             9   23           0.0             0              30    0   \n",
      "13             2   34           0.0             0              45    1   \n",
      "14             7   25           0.0             0              35    1   \n",
      "15             7   32           0.0             0              40    1   \n",
      "16             5   38           0.0             0              50    1   \n",
      "17            10   43           0.0             0              45    0   \n",
      "18            11   40           0.0             0              60    1   \n",
      "19             7   54           0.0             0              20    0   \n",
      "20             3   35           0.0             0              40    1   \n",
      "21             5   43           0.0          2042              40    1   \n",
      "22             7   59           0.0             0              40    0   \n",
      "23             9   56           0.0             0              40    1   \n",
      "24             7   19           0.0             0              40    1   \n",
      "25             8   54           0.0             0              60    1   \n",
      "26             7   39           0.0             0              80    1   \n",
      "27             7   49           0.0             0              40    1   \n",
      "28             8   20           0.0             0              44    1   \n",
      "29             9   45           0.0          1408              40    1   \n",
      "...          ...  ...           ...           ...             ...  ...   \n",
      "29506          7   30           0.0             0              55    1   \n",
      "29507          4   32           0.0             0              40    1   \n",
      "29508          8   22           0.0             0              40    1   \n",
      "29509          7   31           0.0             0              40    0   \n",
      "29510          7   29           0.0             0              35    0   \n",
      "29511          9   35           0.0             0              55    0   \n",
      "29512          9   30           0.0             0              99    0   \n",
      "29513         11   34           0.0             0              60    1   \n",
      "29514          9   54           0.0             0              50    1   \n",
      "29515          8   37           0.0             0              39    0   \n",
      "29516          6   22           0.0             0              35    1   \n",
      "29517          9   34           0.0             0              55    0   \n",
      "29518          7   30           0.0             0              46    1   \n",
      "29519          9   38       15020.0             0              45    0   \n",
      "29520         11   71           0.0             0              10    1   \n",
      "29521          7   45           0.0             0              40    0   \n",
      "29522          7   41           0.0             0              32    0   \n",
      "29523          7   72           0.0             0              25    1   \n",
      "29524         10   31           0.0             0              30    0   \n",
      "29525          7   43           0.0             0              40    1   \n",
      "29526          8   43           0.0             0              40    0   \n",
      "29527          8   43           0.0             0              50    1   \n",
      "29528          4   32           0.0             0              40    1   \n",
      "29529         10   32           0.0             0              11    1   \n",
      "29530         10   53           0.0             0              40    1   \n",
      "29531          8   22           0.0             0              40    1   \n",
      "29532          7   40           0.0             0              40    1   \n",
      "29533          7   58           0.0             0              40    0   \n",
      "29534          7   22           0.0             0              20    1   \n",
      "29535          7   52       15024.0             0              40    0   \n",
      "\n",
      "       classification  race_Amer-Indian-Eskimo  race_Asian-Pac-Islander  \\\n",
      "0                   0                        0                        0   \n",
      "1                   0                        0                        0   \n",
      "2                   0                        0                        0   \n",
      "3                   0                        0                        0   \n",
      "4                   0                        0                        0   \n",
      "5                   0                        0                        0   \n",
      "6                   0                        0                        0   \n",
      "7                   1                        0                        0   \n",
      "8                   1                        0                        0   \n",
      "9                   1                        0                        0   \n",
      "10                  1                        0                        0   \n",
      "11                  1                        0                        1   \n",
      "12                  0                        0                        0   \n",
      "13                  0                        1                        0   \n",
      "14                  0                        0                        0   \n",
      "15                  0                        0                        0   \n",
      "16                  0                        0                        0   \n",
      "17                  1                        0                        0   \n",
      "18                  1                        0                        0   \n",
      "19                  0                        0                        0   \n",
      "20                  0                        0                        0   \n",
      "21                  0                        0                        0   \n",
      "22                  0                        0                        0   \n",
      "23                  1                        0                        0   \n",
      "24                  0                        0                        0   \n",
      "25                  1                        0                        1   \n",
      "26                  0                        0                        0   \n",
      "27                  0                        0                        0   \n",
      "28                  0                        0                        0   \n",
      "29                  0                        0                        0   \n",
      "...               ...                      ...                      ...   \n",
      "29506               0                        0                        0   \n",
      "29507               0                        0                        0   \n",
      "29508               0                        0                        0   \n",
      "29509               0                        0                        0   \n",
      "29510               0                        0                        0   \n",
      "29511               1                        0                        0   \n",
      "29512               0                        0                        1   \n",
      "29513               1                        0                        0   \n",
      "29514               1                        0                        1   \n",
      "29515               0                        0                        0   \n",
      "29516               0                        0                        0   \n",
      "29517               1                        0                        0   \n",
      "29518               0                        0                        0   \n",
      "29519               1                        0                        0   \n",
      "29520               1                        0                        0   \n",
      "29521               0                        0                        0   \n",
      "29522               0                        0                        0   \n",
      "29523               0                        0                        0   \n",
      "29524               0                        0                        0   \n",
      "29525               0                        0                        0   \n",
      "29526               0                        0                        0   \n",
      "29527               0                        0                        0   \n",
      "29528               0                        1                        0   \n",
      "29529               0                        0                        1   \n",
      "29530               1                        0                        0   \n",
      "29531               0                        0                        0   \n",
      "29532               1                        0                        0   \n",
      "29533               0                        0                        0   \n",
      "29534               0                        0                        0   \n",
      "29535               1                        0                        0   \n",
      "\n",
      "       race_Black  race_Other  race_White  \n",
      "0               0           0           1  \n",
      "1               0           0           1  \n",
      "2               0           0           1  \n",
      "3               1           0           0  \n",
      "4               1           0           0  \n",
      "5               0           0           1  \n",
      "6               1           0           0  \n",
      "7               0           0           1  \n",
      "8               0           0           1  \n",
      "9               0           0           1  \n",
      "10              1           0           0  \n",
      "11              0           0           0  \n",
      "12              0           0           1  \n",
      "13              0           0           0  \n",
      "14              0           0           1  \n",
      "15              0           0           1  \n",
      "16              0           0           1  \n",
      "17              0           0           1  \n",
      "18              0           0           1  \n",
      "19              1           0           0  \n",
      "20              1           0           0  \n",
      "21              0           0           1  \n",
      "22              0           0           1  \n",
      "23              0           0           1  \n",
      "24              0           0           1  \n",
      "25              0           0           0  \n",
      "26              0           0           1  \n",
      "27              0           0           1  \n",
      "28              1           0           0  \n",
      "29              0           0           1  \n",
      "...           ...         ...         ...  \n",
      "29506           0           0           1  \n",
      "29507           0           0           1  \n",
      "29508           0           0           1  \n",
      "29509           0           0           1  \n",
      "29510           0           0           1  \n",
      "29511           0           0           1  \n",
      "29512           0           0           0  \n",
      "29513           0           0           1  \n",
      "29514           0           0           0  \n",
      "29515           0           0           1  \n",
      "29516           1           0           0  \n",
      "29517           0           0           1  \n",
      "29518           1           0           0  \n",
      "29519           1           0           0  \n",
      "29520           0           0           1  \n",
      "29521           0           0           1  \n",
      "29522           1           0           0  \n",
      "29523           0           0           1  \n",
      "29524           0           1           0  \n",
      "29525           0           0           1  \n",
      "29526           0           0           1  \n",
      "29527           0           0           1  \n",
      "29528           0           0           0  \n",
      "29529           0           0           0  \n",
      "29530           0           0           1  \n",
      "29531           0           0           1  \n",
      "29532           0           0           1  \n",
      "29533           0           0           1  \n",
      "29534           0           0           1  \n",
      "29535           0           0           1  \n",
      "\n",
      "[29536 rows x 12 columns]\n"
     ]
    }
   ],
   "source": [
    "# .. your code here\n",
    "print(census)"
   ]
  }
 ],
 "metadata": {
  "anaconda-cloud": {},
  "kernelspec": {
   "display_name": "Python 3",
   "language": "python",
   "name": "python3"
  },
  "language_info": {
   "codemirror_mode": {
    "name": "ipython",
    "version": 3
   },
   "file_extension": ".py",
   "mimetype": "text/x-python",
   "name": "python",
   "nbconvert_exporter": "python",
   "pygments_lexer": "ipython3",
   "version": "3.5.4"
  },
  "toc": {
   "colors": {
    "hover_highlight": "#DAA520",
    "running_highlight": "#FF0000",
    "selected_highlight": "#FFD700"
   },
   "moveMenuLeft": true,
   "nav_menu": {
    "height": "58px",
    "width": "251px"
   },
   "navigate_menu": true,
   "number_sections": true,
   "sideBar": true,
   "threshold": 4,
   "toc_cell": false,
   "toc_section_display": "block",
   "toc_window_display": false,
   "widenNotebook": false
  }
 },
 "nbformat": 4,
 "nbformat_minor": 2
}
